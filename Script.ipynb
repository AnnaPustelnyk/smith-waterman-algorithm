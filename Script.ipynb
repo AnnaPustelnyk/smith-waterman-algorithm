{
  "nbformat": 4,
  "nbformat_minor": 0,
  "metadata": {
    "colab": {
      "provenance": [],
      "authorship_tag": "ABX9TyNLIpZJLqHIeVXdK71koIRA",
      "include_colab_link": true
    },
    "kernelspec": {
      "name": "python3",
      "display_name": "Python 3"
    },
    "language_info": {
      "name": "python"
    }
  },
  "cells": [
    {
      "cell_type": "markdown",
      "metadata": {
        "id": "view-in-github",
        "colab_type": "text"
      },
      "source": [
        "<a href=\"https://colab.research.google.com/github/AnnaPustelnyk/smith-waterman-algorithm/blob/main/Script.ipynb\" target=\"_parent\"><img src=\"https://colab.research.google.com/assets/colab-badge.svg\" alt=\"Open In Colab\"/></a>"
      ]
    },
    {
      "cell_type": "code",
      "source": [
        "import sys\n",
        "from Bio import SeqIO\n",
        "import numpy as np\n",
        "\n",
        "def read_fasta_file(file_path):\n",
        "    sequences = []\n",
        "    for record in SeqIO.parse(file_path, \"fasta\"):\n",
        "        sequences.append(str(record.seq))\n",
        "    return sequences\n",
        "\n",
        "def smith_waterman(seq1, seq2, match_score=1, mismatch_score=-1, gap=-2):\n",
        "    m, n = len(seq1), len(seq2)\n",
        "\n",
        "    score_matrix = np.zeros((m + 1, n + 1))\n",
        "\n",
        "    max_score = 0\n",
        "    max_i, max_j = 0, 0\n",
        "\n",
        "    for i in range(1, m + 1):\n",
        "        for j in range(1, n + 1):\n",
        "            match = score_matrix[i - 1][j - 1] + (match_score if seq1[i - 1] == seq2[j - 1] else mismatch_score)\n",
        "            delete = max(score_matrix[i - 1, j] + gap, 0)\n",
        "            insert = max(score_matrix[i, j - 1] + gap, 0)\n",
        "\n",
        "            score_matrix[i][j] = max(match, delete, insert, 0)\n",
        "\n",
        "            if score_matrix[i][j] > max_score:\n",
        "                max_score = score_matrix[i][j]\n",
        "                max_i, max_j = i, j\n",
        "\n",
        "    aligned_seq1, aligned_seq2 = [], []\n",
        "    i, j = max_i, max_j\n",
        "\n",
        "    while i > 0 and j > 0 and score_matrix[i][j] > 0:\n",
        "        if score_matrix[i][j] == score_matrix[i - 1][j - 1] + (match_score if seq1[i - 1] == seq2[j - 1] else mismatch_score):\n",
        "            aligned_seq1.insert(0, seq1[i - 1])\n",
        "            aligned_seq2.insert(0, seq2[j - 1])\n",
        "            i, j = i - 1, j - 1\n",
        "        elif score_matrix[i][j] == score_matrix[i - 1, j] + gap:\n",
        "            aligned_seq1.insert(0, seq1[i - 1])\n",
        "            aligned_seq2.insert(0, '-')\n",
        "            i -= 1\n",
        "        else:\n",
        "            aligned_seq1.insert(0, '-')\n",
        "            aligned_seq2.insert(0, seq2[j - 1])\n",
        "            j -= 1\n",
        "\n",
        "    return \"\".join(aligned_seq1), \"\".join(aligned_seq2)\n",
        "\n",
        "if len(sys.argv) < 2:\n",
        "    print(\"Usage: python nw.py <fasta_file>\")\n",
        "    sys.exit(1)\n",
        "\n",
        "if len(sys.argv) == 2:\n",
        "    file_path = sys.argv[1]\n",
        "    sequences = read_fasta_file(file_path)\n",
        "\n",
        "    if len(sequences) != 2:\n",
        "        print(\"Please provide exactly 2 sequences in the FASTA file.\")\n",
        "        sys.exit(1)\n",
        "\n",
        "    seq1, seq2 = sequences\n",
        "    print(seq1)\n",
        "    print(seq2)\n",
        "else:\n",
        "    if len(sys.argv) != 3:\n",
        "        print(\"Please provide exactly 2 sequence files.\")\n",
        "        sys.exit(1)\n",
        "\n",
        "    file_path1 = sys.argv[1]\n",
        "    file_path2 = sys.argv[2]\n",
        "\n",
        "    seq1 = read_fasta_file(file_path1)[0]\n",
        "    seq2 = read_fasta_file(file_path2)[0]\n",
        "    print(seq1)\n",
        "    print(seq2)\n",
        "\n",
        "aligned_seq1, aligned_seq2 = smith_waterman(seq1, seq2)\n",
        "\n",
        "with open(\"aligned_sequences.txt\", \"w\") as output_file:\n",
        "    output_file.write(f\"Aligned Sequence 1: {aligned_seq1}\\n\")\n",
        "    output_file.write(f\"Aligned Sequence 2: {aligned_seq2}\\n\")\n",
        "\n",
        "print(\"Alignment saved to 'aligned_sequences.txt'.\")"
      ],
      "metadata": {
        "id": "_Ylb0tHlYziE"
      },
      "execution_count": null,
      "outputs": []
    }
  ]
}